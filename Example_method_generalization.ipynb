{
 "cells": [
  {
   "cell_type": "markdown",
   "metadata": {},
   "source": [
    "# Method Generalization"
   ]
  },
  {
   "cell_type": "code",
   "execution_count": 1,
   "metadata": {
    "collapsed": true
   },
   "outputs": [],
   "source": [
    "from ghoul import Symbol"
   ]
  },
  {
   "cell_type": "markdown",
   "metadata": {},
   "source": [
    "Define some classes which all implement a method that returns a description:"
   ]
  },
  {
   "cell_type": "code",
   "execution_count": 22,
   "metadata": {
    "collapsed": true
   },
   "outputs": [],
   "source": [
    "class MyObject(object):\n",
    "    def describe(self):\n",
    "        print('this is some sort of vaguely-defined object')\n",
    "        \n",
    "class Fruit(MyObject):\n",
    "    def describe(self):\n",
    "        print('this is a piece of fruit.')\n",
    "        \n",
    "class Apple(Fruit):\n",
    "    def describe(self):\n",
    "        print('this is a general apple of some sort.')\n",
    "        \n",
    "class GrannySmith(Apple):\n",
    "    def describe(self):\n",
    "        print('this is a granny smith apple.')\n",
    "\n",
    "class Honeycrisp(Apple):\n",
    "    def describe(self):\n",
    "        print('this is a honeycrisp apple.')\n",
    "        \n",
    "class Pear(Fruit):\n",
    "    def describe(self):\n",
    "        print('this is a pear.')\n",
    "\n",
    "class Grapefruit(Fruit):\n",
    "    pass"
   ]
  },
  {
   "cell_type": "markdown",
   "metadata": {},
   "source": [
    "First, create a symbolic fruit:"
   ]
  },
  {
   "cell_type": "code",
   "execution_count": 29,
   "metadata": {
    "collapsed": false
   },
   "outputs": [
    {
     "name": "stdout",
     "output_type": "stream",
     "text": [
      "[<__main__.GrannySmith object at 0x10332bd30>, <__main__.Honeycrisp object at 0x10332bd68>, <__main__.Pear object at 0x10332bcf8>, <__main__.Grapefruit object at 0x10332bda0>]\n"
     ]
    }
   ],
   "source": [
    "# define a symbolic fruit\n",
    "fruit = Symbol(Fruit)\n",
    "print(fruit)"
   ]
  },
  {
   "cell_type": "markdown",
   "metadata": {},
   "source": [
    "`fruit` contains two types of apple, a pear, and a grapefruit as possibilities. Symbols adopt the shared methods of their values, so we can call `fruit.describe()`:"
   ]
  },
  {
   "cell_type": "code",
   "execution_count": 24,
   "metadata": {
    "collapsed": false
   },
   "outputs": [
    {
     "name": "stdout",
     "output_type": "stream",
     "text": [
      "this is a piece of fruit.\n"
     ]
    }
   ],
   "source": [
    "# symbols adopt the shared methods of their values:\n",
    "fruit.describe()"
   ]
  },
  {
   "cell_type": "markdown",
   "metadata": {},
   "source": [
    "What happened? `fruit` does not have a concrete value, so we must look for a general version of `describe` that can apply to all of `fruit`'s values.\n",
    "\n",
    "Each element of `fruit` is a subclass of `Fruit`, which is a subclass of `MyObject`. Both `Fruit` and `MyObject` implement `describe()`, but `Fruit` is the least general common parent of all of the values of `fruit`, so therefore we call `Fruit.describe()`."
   ]
  },
  {
   "cell_type": "code",
   "execution_count": 27,
   "metadata": {
    "collapsed": false
   },
   "outputs": [
    {
     "data": {
      "text/plain": [
       "<__main__.GrannySmith object at 0x10332ba20>"
      ]
     },
     "execution_count": 27,
     "metadata": {},
     "output_type": "execute_result"
    }
   ],
   "source": [
    "# collapse fruit to a concrete value\n",
    "fruit.Observe()"
   ]
  },
  {
   "cell_type": "code",
   "execution_count": 28,
   "metadata": {
    "collapsed": false
   },
   "outputs": [
    {
     "name": "stdout",
     "output_type": "stream",
     "text": [
      "this is a granny smith apple.\n"
     ]
    }
   ],
   "source": [
    "fruit.describe()"
   ]
  },
  {
   "cell_type": "markdown",
   "metadata": {},
   "source": [
    "Now that `fruit` is restricted to an instance of `GrannySmith` in particular, `fruit.describe()` can evaluate to `GrannySmith.describe()`.\n",
    "\n",
    "---\n",
    "\n",
    "What if we collapse to a value of intermediate specificity?"
   ]
  },
  {
   "cell_type": "code",
   "execution_count": 34,
   "metadata": {
    "collapsed": false
   },
   "outputs": [
    {
     "name": "stdout",
     "output_type": "stream",
     "text": [
      "[<__main__.GrannySmith object at 0x1033341d0>, <__main__.Honeycrisp object at 0x103334208>, <__main__.Pear object at 0x103334198>, <__main__.Grapefruit object at 0x103334240>]\n"
     ]
    }
   ],
   "source": [
    "# define a symbolic fruit\n",
    "fruit = Symbol(Fruit)\n",
    "print(fruit)"
   ]
  },
  {
   "cell_type": "code",
   "execution_count": 35,
   "metadata": {
    "collapsed": false
   },
   "outputs": [
    {
     "data": {
      "text/plain": [
       "[<__main__.GrannySmith object at 0x1033341d0>, <__main__.Honeycrisp object at 0x103334208>]"
      ]
     },
     "execution_count": 35,
     "metadata": {},
     "output_type": "execute_result"
    }
   ],
   "source": [
    "# restrict to Apples only\n",
    "fruit.Collapse(Apple)"
   ]
  },
  {
   "cell_type": "code",
   "execution_count": 11,
   "metadata": {
    "collapsed": false
   },
   "outputs": [
    {
     "name": "stdout",
     "output_type": "stream",
     "text": [
      "this is a general apple of some sort.\n"
     ]
    }
   ],
   "source": [
    "fruit.describe()"
   ]
  },
  {
   "cell_type": "markdown",
   "metadata": {},
   "source": [
    "Each element of `fruit` is a subclass of `Apple`, which is a subclass of `Fruit`, which is a subclass of `MyObject`. All of these implement `describe()`, but `Apple` is the least general common parent of all of the values of `fruit`, so therefore we call `Apple.describe()`."
   ]
  },
  {
   "cell_type": "code",
   "execution_count": 36,
   "metadata": {
    "collapsed": false
   },
   "outputs": [
    {
     "data": {
      "text/plain": [
       "<__main__.Honeycrisp object at 0x103334208>"
      ]
     },
     "execution_count": 36,
     "metadata": {},
     "output_type": "execute_result"
    }
   ],
   "source": [
    "fruit.Observe()"
   ]
  },
  {
   "cell_type": "code",
   "execution_count": 37,
   "metadata": {
    "collapsed": false
   },
   "outputs": [
    {
     "name": "stdout",
     "output_type": "stream",
     "text": [
      "this is a honeycrisp apple.\n"
     ]
    }
   ],
   "source": [
    "fruit.describe()"
   ]
  }
 ],
 "metadata": {
  "kernelspec": {
   "display_name": "Python [conda env:py3]",
   "language": "python",
   "name": "conda-env-py3-py"
  },
  "language_info": {
   "codemirror_mode": {
    "name": "ipython",
    "version": 3
   },
   "file_extension": ".py",
   "mimetype": "text/x-python",
   "name": "python",
   "nbconvert_exporter": "python",
   "pygments_lexer": "ipython3",
   "version": "3.6.2"
  }
 },
 "nbformat": 4,
 "nbformat_minor": 1
}
