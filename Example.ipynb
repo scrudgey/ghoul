{
 "cells": [
  {
   "cell_type": "markdown",
   "metadata": {},
   "source": [
    "# Basic Functionality\n",
    "\n",
    "ghoul version 0.1.0\n",
    "\n",
    "## Collapsing symbols\n",
    "\n",
    "The purpose of ghoul is to randomly generate internally-consistent python objects.\n",
    "\n",
    "The basic unit in ghoul is the `Symbol`. A symbol is an object in a \"superposition\": it contains many possible states, until it \"collapses\" to a concrete value."
   ]
  },
  {
   "cell_type": "code",
   "execution_count": 1,
   "metadata": {
    "collapsed": false
   },
   "outputs": [],
   "source": [
    "from ghoul import Symbol "
   ]
  },
  {
   "cell_type": "code",
   "execution_count": 2,
   "metadata": {
    "collapsed": false
   },
   "outputs": [],
   "source": [
    "# create a new symbol\n",
    "number = Symbol([1, 2, 3])"
   ]
  },
  {
   "cell_type": "code",
   "execution_count": 3,
   "metadata": {
    "collapsed": false
   },
   "outputs": [
    {
     "data": {
      "text/plain": [
       "[1, 2, 3]"
      ]
     },
     "execution_count": 3,
     "metadata": {},
     "output_type": "execute_result"
    }
   ],
   "source": [
    "# check the possible values of number\n",
    "number"
   ]
  },
  {
   "cell_type": "code",
   "execution_count": 4,
   "metadata": {
    "collapsed": false
   },
   "outputs": [
    {
     "data": {
      "text/plain": [
       "1"
      ]
     },
     "execution_count": 4,
     "metadata": {},
     "output_type": "execute_result"
    }
   ],
   "source": [
    "# force number to adopt a concrete value\n",
    "number.Observe()"
   ]
  },
  {
   "cell_type": "code",
   "execution_count": 5,
   "metadata": {
    "collapsed": false
   },
   "outputs": [
    {
     "data": {
      "text/plain": [
       "1"
      ]
     },
     "execution_count": 5,
     "metadata": {},
     "output_type": "execute_result"
    }
   ],
   "source": [
    "# after this, number no long contains other possibilities\n",
    "number"
   ]
  },
  {
   "cell_type": "markdown",
   "metadata": {},
   "source": [
    "Upon being observed, `number` collapsed to a concrete value of 1, but it could have taken any of its potential values."
   ]
  },
  {
   "cell_type": "markdown",
   "metadata": {},
   "source": [
    "## Symbolic objects\n",
    "\n",
    "Symbols can represent superpositions of generic python objects."
   ]
  },
  {
   "cell_type": "code",
   "execution_count": 6,
   "metadata": {
    "collapsed": true
   },
   "outputs": [],
   "source": [
    "class Fruit(object):\n",
    "    pass\n",
    "\n",
    "class Apple(Fruit):\n",
    "    def __init__(self):\n",
    "        self.name = 'apple'\n",
    "        self.color = Symbol(['green', 'red'])\n",
    "        \n",
    "class Pear(Fruit):\n",
    "    def __init__(self):\n",
    "        self.name = 'pear'\n",
    "        self.color = Symbol(['green', 'yellow'])"
   ]
  },
  {
   "cell_type": "code",
   "execution_count": 7,
   "metadata": {
    "collapsed": false
   },
   "outputs": [],
   "source": [
    "# define a superposed instance of Fruit\n",
    "fruit = Symbol(Fruit)"
   ]
  },
  {
   "cell_type": "code",
   "execution_count": 8,
   "metadata": {
    "collapsed": false
   },
   "outputs": [
    {
     "name": "stdout",
     "output_type": "stream",
     "text": [
      "[<__main__.Apple object at 0x10f961d30>, <__main__.Pear object at 0x10f890240>]\n",
      "['apple', 'pear']\n",
      "['green', 'red', 'green', 'yellow']\n"
     ]
    }
   ],
   "source": [
    "# check the possible attributes of the fruit\n",
    "print(fruit)\n",
    "print(fruit.name)\n",
    "print(fruit.color)"
   ]
  },
  {
   "cell_type": "markdown",
   "metadata": {},
   "source": [
    "`fruit` is in a superposition of Apple and Pear, and this is reflected in the superposed values of its attributes `name` and `color`."
   ]
  },
  {
   "cell_type": "markdown",
   "metadata": {},
   "source": [
    "## Top-down collapsing"
   ]
  },
  {
   "cell_type": "code",
   "execution_count": 9,
   "metadata": {
    "collapsed": false
   },
   "outputs": [
    {
     "data": {
      "text/plain": [
       "<__main__.Pear object at 0x10f890240>"
      ]
     },
     "execution_count": 9,
     "metadata": {},
     "output_type": "execute_result"
    }
   ],
   "source": [
    "# collapse the fruit\n",
    "fruit.Observe()"
   ]
  },
  {
   "cell_type": "code",
   "execution_count": 10,
   "metadata": {
    "collapsed": false
   },
   "outputs": [
    {
     "name": "stdout",
     "output_type": "stream",
     "text": [
      "<__main__.Pear object at 0x10f890240>\n",
      "pear\n",
      "['green', 'yellow']\n"
     ]
    }
   ],
   "source": [
    "# inspect its new values\n",
    "print(fruit)\n",
    "print(fruit.name)\n",
    "print(fruit.color)"
   ]
  },
  {
   "cell_type": "markdown",
   "metadata": {},
   "source": [
    "After collapsing `fruit` to an instance of `Pear`, we know its name must be `'pear'`, but its color is still undefined, being either green or yellow."
   ]
  },
  {
   "cell_type": "markdown",
   "metadata": {},
   "source": [
    "## Bottom-up collapsing\n",
    "\n",
    "Critically, when any attribute of the object is observed and takes on a concrete value, all of its superposed attributes will change as necessary to maintain consistency with the observation."
   ]
  },
  {
   "cell_type": "code",
   "execution_count": 11,
   "metadata": {
    "collapsed": false
   },
   "outputs": [
    {
     "data": {
      "text/plain": [
       "pear"
      ]
     },
     "execution_count": 11,
     "metadata": {},
     "output_type": "execute_result"
    }
   ],
   "source": [
    "# create a new superposed instance of Fruit\n",
    "fruit = Symbol(Fruit)\n",
    "\n",
    "# observe the fruit's name\n",
    "fruit.name.Observe()"
   ]
  },
  {
   "cell_type": "markdown",
   "metadata": {},
   "source": [
    "after observing `fruit.name`, it collapsed to `'apple'`. `fruit` must now adjust its possible values to be consistent with this name. \n",
    "\n",
    "`fruit` had two possible values, an `Apple` object and a `Pear` object. If `Pear` remains a possibility, then it would be possible for `fruit` to collapse to a `Pear`, although we have already observed its name to be `'apple'`. \n",
    "\n",
    "This is inconsistent with the definition of the `Pear` object, so once `fruit.name` collapses to `'apple'`, `Pear` is removed as a possiblity in order to preserve internal consistency."
   ]
  },
  {
   "cell_type": "code",
   "execution_count": 12,
   "metadata": {
    "collapsed": false
   },
   "outputs": [
    {
     "name": "stdout",
     "output_type": "stream",
     "text": [
      "<__main__.Pear object at 0x10f890198>\n",
      "pear\n",
      "['green', 'yellow']\n"
     ]
    }
   ],
   "source": [
    "# check all of the attribute values now\n",
    "print(fruit)\n",
    "print(fruit.name)\n",
    "print(fruit.color)"
   ]
  },
  {
   "cell_type": "markdown",
   "metadata": {},
   "source": [
    "Knowing that `fruit` is an `Apple` object still does not tell us everything about its color, because an `Apple` may be still be either green or red."
   ]
  },
  {
   "cell_type": "markdown",
   "metadata": {},
   "source": [
    "## The consistency requirement\n",
    "\n",
    "**The future state of a symbolic object will always be consistent with past observations.**\n",
    "\n",
    "## Minimal restriction\n",
    "\n",
    "Both `Apple` and `Pear` are consistent with the fruit having a green color. Let's see what happens if we force `fruit` to be green:"
   ]
  },
  {
   "cell_type": "code",
   "execution_count": 13,
   "metadata": {
    "collapsed": false
   },
   "outputs": [
    {
     "data": {
      "text/plain": [
       "['green', 'green']"
      ]
     },
     "execution_count": 13,
     "metadata": {},
     "output_type": "execute_result"
    }
   ],
   "source": [
    "# create a new superposed instance of Fruit\n",
    "fruit = Symbol(Fruit)\n",
    "\n",
    "# force fruit to be green\n",
    "fruit.color.Collapse('green')"
   ]
  },
  {
   "cell_type": "code",
   "execution_count": 14,
   "metadata": {
    "collapsed": false
   },
   "outputs": [
    {
     "name": "stdout",
     "output_type": "stream",
     "text": [
      "[<__main__.Apple object at 0x10f890e80>, <__main__.Pear object at 0x10f890ef0>]\n",
      "['apple', 'pear']\n",
      "['green', 'green']\n"
     ]
    }
   ],
   "source": [
    "# check all of the attribute values now\n",
    "print(fruit)\n",
    "print(fruit.name)\n",
    "print(fruit.color)"
   ]
  },
  {
   "cell_type": "markdown",
   "metadata": {},
   "source": [
    "The fruit being green is not sufficient to discriminate between an Apple or a Pear. Therefore `fruit` may be either an `Apple` or `Pear` object, and `fruit.name` can be either `'apple'` or `'pear'`."
   ]
  },
  {
   "cell_type": "markdown",
   "metadata": {},
   "source": [
    "## Subclass restriction"
   ]
  },
  {
   "cell_type": "code",
   "execution_count": 15,
   "metadata": {
    "collapsed": true
   },
   "outputs": [],
   "source": [
    "class GrannySmith(Apple):\n",
    "    def __init__(self):\n",
    "        super().__init__()\n",
    "        self.color = 'green'\n",
    "        \n",
    "class Honeycrisp(Apple):\n",
    "    def __init__(self):\n",
    "        super().__init__()\n",
    "        self.color = 'red'"
   ]
  },
  {
   "cell_type": "code",
   "execution_count": 16,
   "metadata": {
    "collapsed": false
   },
   "outputs": [
    {
     "name": "stdout",
     "output_type": "stream",
     "text": [
      "[<__main__.GrannySmith object at 0x10f977898>, <__main__.Honeycrisp object at 0x10f9778d0>, <__main__.Pear object at 0x10f977860>]\n",
      "['apple', 'apple', 'pear']\n",
      "['green', 'red', 'green', 'yellow']\n"
     ]
    }
   ],
   "source": [
    "# create a new superposed instance of Fruit\n",
    "fruit = Symbol(Fruit)\n",
    "\n",
    "print(fruit)\n",
    "print(fruit.name)\n",
    "print(fruit.color)"
   ]
  },
  {
   "cell_type": "code",
   "execution_count": 17,
   "metadata": {
    "collapsed": false
   },
   "outputs": [
    {
     "name": "stdout",
     "output_type": "stream",
     "text": [
      "[<__main__.GrannySmith object at 0x10f977898>, <__main__.Honeycrisp object at 0x10f9778d0>]\n",
      "['apple', 'apple']\n",
      "['green', 'red']\n"
     ]
    }
   ],
   "source": [
    "fruit.Collapse(Apple)\n",
    "print(fruit)\n",
    "print(fruit.name)\n",
    "print(fruit.color)"
   ]
  },
  {
   "cell_type": "code",
   "execution_count": null,
   "metadata": {
    "collapsed": true
   },
   "outputs": [],
   "source": []
  }
 ],
 "metadata": {
  "anaconda-cloud": {},
  "kernelspec": {
   "display_name": "Python [conda env:py3]",
   "language": "python",
   "name": "conda-env-py3-py"
  },
  "language_info": {
   "codemirror_mode": {
    "name": "ipython",
    "version": 3
   },
   "file_extension": ".py",
   "mimetype": "text/x-python",
   "name": "python",
   "nbconvert_exporter": "python",
   "pygments_lexer": "ipython3",
   "version": "3.6.2"
  }
 },
 "nbformat": 4,
 "nbformat_minor": 1
}
